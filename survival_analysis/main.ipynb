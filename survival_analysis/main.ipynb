{
 "cells": [
  {
   "cell_type": "markdown",
   "metadata": {},
   "source": [
    "# Survival Analysis"
   ]
  },
  {
   "cell_type": "markdown",
   "metadata": {},
   "source": [
    "## Intuition"
   ]
  },
  {
   "cell_type": "markdown",
   "metadata": {},
   "source": [
    "Imagine we are a pharma company and we came up with a new drug that we believe cures cancer. To test our drug, we start a clinical trial with patients that have cancer, and randomly split them to 2 groups and tell both groups that they are taking the drug.\n",
    "\n",
    "1. Group 1 take the actual drug.\n",
    "2. Group 2 think they are taking the actual drug but in reality take a placebo i.e. saline solution.\n",
    "\n",
    "This setup ensures that there are no psychological effects.\n",
    "\n",
    "We start recording the times at which a death happens in both groups, and at the end of study we start analysing the data to determine the effect of our drug. For our drug to work, there needs to be a significant difference in the survival probability between the 2 groups.\n",
    "\n",
    "We calculate the probability of survival for both groups at each time point and we end up with a **Kaplan Meier** plot to visualize the result.\n",
    "\n",
    "![Kaplan Meier plot](km.png \"Kaplan Meier plot\")\n",
    "\n",
    "Our drug seems to work! The probability of survival for the group taking the drug is higher than the other group. However, there is huge caveat. We did not take into account other variables that may affect the survival of patients. Maybe, females responded well to the drug and the placebo group had no females, or the placebo group had higher diabetes. We call these confounders that we need to take into account."
   ]
  },
  {
   "cell_type": "markdown",
   "metadata": {},
   "source": [
    "## Cox Proportional Hazards"
   ]
  },
  {
   "cell_type": "markdown",
   "metadata": {},
   "source": [
    "Our motivation is to quantify the effect of variables on patient survival and determine the dominating variable on patient survival.\n",
    "\n",
    "The Cox proportional hazards model assumes that:\n",
    "1. The relationship between *log(hazard)* and the variables are linear.\n",
    "2. Hazard ratio is constant over time.\n",
    "\n",
    "and the hazard function, $h_i(t)$ for the failure time $t$ of an individual $i$ with a vector of variables $x$ is as follows:\n",
    "\n",
    "$$h_i(t)=h_o(t)exp(x_i^T\\beta)$$\n",
    "\n",
    "where $h_o(t)$ is the unknown baseline hazard. We calculate the partial likelihood function to estimate the coefficients. Since the hazard ratio, $\\frac{h_i(t)}{h_o(t)}={constant}$, we do not need to know the baseline hazard while calculating the likelihood.\n",
    "$$L(\\beta) = \\prod_j{exp(x_j^T\\beta)\\over\\sum_{i\\in R(t_j)}{exp(x_j^T\\beta)}}$$\n",
    "\n",
    "where $j$ indexes the observed death times and $R(t)$ is the set of samples at risk at time $t$.\n",
    "\n",
    "\n",
    "Our goal is to estimate the coefficients that maximize the likelihood function. This problem can be solved using different optimizers, the method used in this notebook is **Newton-Raphson Method**. \n",
    "\n",
    "Variables with positive coefficients increase the risk of death, meanwhile, negative coefficients have a protective effect. The significance of each coefficient is calculated using a ***t-test***, while the model's significance is calculated using ***Chi squared goodness of fit test*** where:\n",
    "$$X^2=\\sum{(observed-expected)^2\\over expected}$$"
   ]
  },
  {
   "cell_type": "markdown",
   "metadata": {},
   "source": [
    "## Example"
   ]
  },
  {
   "cell_type": "markdown",
   "metadata": {},
   "source": [
    "The dataset consists of survival data of 88 patients with a certain type of cancer. Each patient is described by:\n",
    "1. Dead or not (Overall Survival)\n",
    "2. Time of death or End of Study (Overall Survival Time)\n",
    "3. Age\n",
    "4. Gender\n",
    "5. Total number of sick cells\n",
    "6. Has sick cells that reduce immunity"
   ]
  },
  {
   "cell_type": "code",
   "execution_count": 21,
   "metadata": {},
   "outputs": [],
   "source": [
    "%matplotlib inline\n",
    "\n",
    "import lifelines\n",
    "import lifelines.statistics\n",
    "import pandas as pd\n",
    "import numpy as np\n",
    "import warnings\n",
    "import seaborn as sns\n",
    "import matplotlib.pyplot as plt\n",
    "warnings.filterwarnings('ignore')\n",
    "\n",
    "sns.set_style()\n",
    "# plt.rcParams[\"figure.dpi\"] = 1200\n",
    "# plt.rcParams['figure.figsize'] = [8, 4]"
   ]
  },
  {
   "cell_type": "code",
   "execution_count": 22,
   "metadata": {
    "tags": [
     "hide-output"
    ]
   },
   "outputs": [
    {
     "name": "stdout",
     "output_type": "stream",
     "text": [
      "Number of patients: 88\n"
     ]
    },
    {
     "data": {
      "text/html": [
       "<div>\n",
       "<style scoped>\n",
       "    .dataframe tbody tr th:only-of-type {\n",
       "        vertical-align: middle;\n",
       "    }\n",
       "\n",
       "    .dataframe tbody tr th {\n",
       "        vertical-align: top;\n",
       "    }\n",
       "\n",
       "    .dataframe thead th {\n",
       "        text-align: right;\n",
       "    }\n",
       "</style>\n",
       "<table border=\"1\" class=\"dataframe\">\n",
       "  <thead>\n",
       "    <tr style=\"text-align: right;\">\n",
       "      <th></th>\n",
       "      <th>Patient_Barcode</th>\n",
       "      <th>OS</th>\n",
       "      <th>OS.time</th>\n",
       "      <th>age</th>\n",
       "      <th>gender</th>\n",
       "      <th>total_sick_cells</th>\n",
       "      <th>has_immunity_sick_cells</th>\n",
       "    </tr>\n",
       "  </thead>\n",
       "  <tbody>\n",
       "    <tr>\n",
       "      <th>1330</th>\n",
       "      <td>TCGA-PK-A5HC</td>\n",
       "      <td>0</td>\n",
       "      <td>22</td>\n",
       "      <td>44.0</td>\n",
       "      <td>FEMALE</td>\n",
       "      <td>87</td>\n",
       "      <td>NO</td>\n",
       "    </tr>\n",
       "    <tr>\n",
       "      <th>1331</th>\n",
       "      <td>TCGA-PK-A5HB</td>\n",
       "      <td>0</td>\n",
       "      <td>43</td>\n",
       "      <td>63.0</td>\n",
       "      <td>MALE</td>\n",
       "      <td>1590</td>\n",
       "      <td>YES</td>\n",
       "    </tr>\n",
       "    <tr>\n",
       "      <th>1332</th>\n",
       "      <td>TCGA-PK-A5HA</td>\n",
       "      <td>0</td>\n",
       "      <td>40</td>\n",
       "      <td>63.0</td>\n",
       "      <td>MALE</td>\n",
       "      <td>75</td>\n",
       "      <td>YES</td>\n",
       "    </tr>\n",
       "    <tr>\n",
       "      <th>1333</th>\n",
       "      <td>TCGA-PK-A5H9</td>\n",
       "      <td>0</td>\n",
       "      <td>20</td>\n",
       "      <td>27.0</td>\n",
       "      <td>FEMALE</td>\n",
       "      <td>22</td>\n",
       "      <td>NO</td>\n",
       "    </tr>\n",
       "    <tr>\n",
       "      <th>1334</th>\n",
       "      <td>TCGA-PK-A5H8</td>\n",
       "      <td>0</td>\n",
       "      <td>120</td>\n",
       "      <td>42.0</td>\n",
       "      <td>MALE</td>\n",
       "      <td>33</td>\n",
       "      <td>NO</td>\n",
       "    </tr>\n",
       "    <tr>\n",
       "      <th>1349</th>\n",
       "      <td>TCGA-PA-A5YG</td>\n",
       "      <td>0</td>\n",
       "      <td>25</td>\n",
       "      <td>51.0</td>\n",
       "      <td>MALE</td>\n",
       "      <td>11</td>\n",
       "      <td>NO</td>\n",
       "    </tr>\n",
       "    <tr>\n",
       "      <th>1356</th>\n",
       "      <td>TCGA-P6-A5OH</td>\n",
       "      <td>1</td>\n",
       "      <td>0</td>\n",
       "      <td>59.0</td>\n",
       "      <td>FEMALE</td>\n",
       "      <td>177</td>\n",
       "      <td>YES</td>\n",
       "    </tr>\n",
       "    <tr>\n",
       "      <th>1357</th>\n",
       "      <td>TCGA-P6-A5OG</td>\n",
       "      <td>1</td>\n",
       "      <td>12</td>\n",
       "      <td>45.0</td>\n",
       "      <td>FEMALE</td>\n",
       "      <td>321</td>\n",
       "      <td>YES</td>\n",
       "    </tr>\n",
       "  </tbody>\n",
       "</table>\n",
       "</div>"
      ],
      "text/plain": [
       "     Patient_Barcode  OS  OS.time   age  gender  total_sick_cells  \\\n",
       "1330    TCGA-PK-A5HC   0       22  44.0  FEMALE                87   \n",
       "1331    TCGA-PK-A5HB   0       43  63.0    MALE              1590   \n",
       "1332    TCGA-PK-A5HA   0       40  63.0    MALE                75   \n",
       "1333    TCGA-PK-A5H9   0       20  27.0  FEMALE                22   \n",
       "1334    TCGA-PK-A5H8   0      120  42.0    MALE                33   \n",
       "1349    TCGA-PA-A5YG   0       25  51.0    MALE                11   \n",
       "1356    TCGA-P6-A5OH   1        0  59.0  FEMALE               177   \n",
       "1357    TCGA-P6-A5OG   1       12  45.0  FEMALE               321   \n",
       "\n",
       "     has_immunity_sick_cells  \n",
       "1330                      NO  \n",
       "1331                     YES  \n",
       "1332                     YES  \n",
       "1333                      NO  \n",
       "1334                      NO  \n",
       "1349                      NO  \n",
       "1356                     YES  \n",
       "1357                     YES  "
      ]
     },
     "execution_count": 22,
     "metadata": {},
     "output_type": "execute_result"
    }
   ],
   "source": [
    "df = pd.read_csv(\"OS/OS.maf\",sep=\"\\t\",header=0)\n",
    "df[\"OS.time\"] = df[\"OS.time\"] // 30\n",
    "df[\"gender\"].replace({0:\"FEMALE\",1:\"MALE\"},inplace=True)\n",
    "df[\"MRM_Status\"] = df[\"MRM_Count\"].astype(str).copy()\n",
    "df[\"MRM_Status\"].replace(\"0\",\"NO\",inplace=True)\n",
    "df[\"MRM_Status\"].replace(r\"[0-9]+\",value=\"YES\",regex=True,inplace=True)\n",
    "df = df[df[\"Cancer_Type\"] == \"ACC\"][[\"Patient_Barcode\",\"OS\", \"OS.time\",\"age_at_initial_pathologic_diagnosis\",\"gender\",\"Total_Count\",\"MRM_Status\"]]\n",
    "df = df.rename(columns={\"MRM_Status\":\"has_immunity_sick_cells\",\"Total_Count\":\"total_sick_cells\",\"age_at_initial_pathologic_diagnosis\":\"age\"})\n",
    "print(f\"Number of patients: {df.shape[0]}\")\n",
    "df.head(8)"
   ]
  },
  {
   "cell_type": "markdown",
   "metadata": {},
   "source": [
    "### Univariate Model"
   ]
  },
  {
   "cell_type": "markdown",
   "metadata": {},
   "source": [
    "#### Immunity Sick Cell Status"
   ]
  },
  {
   "cell_type": "markdown",
   "metadata": {},
   "source": [
    "First, we check if the distribution of the dataset. Censored here can mean lots of things. It can mean:\n",
    "1. The patient survived until the end of the data collection phase, here the time is the end of the study.\n",
    "2. The researchers lost contact with the patient, here the time is the last contact date."
   ]
  },
  {
   "cell_type": "code",
   "execution_count": 23,
   "metadata": {},
   "outputs": [
    {
     "data": {
      "text/html": [
       "<div>\n",
       "<style scoped>\n",
       "    .dataframe tbody tr th:only-of-type {\n",
       "        vertical-align: middle;\n",
       "    }\n",
       "\n",
       "    .dataframe tbody tr th {\n",
       "        vertical-align: top;\n",
       "    }\n",
       "\n",
       "    .dataframe thead th {\n",
       "        text-align: right;\n",
       "    }\n",
       "</style>\n",
       "<table border=\"1\" class=\"dataframe\">\n",
       "  <thead>\n",
       "    <tr style=\"text-align: right;\">\n",
       "      <th></th>\n",
       "      <th>has_immunity_sick_cells</th>\n",
       "      <th>no_immunity_sick_cells</th>\n",
       "      <th>Total</th>\n",
       "    </tr>\n",
       "  </thead>\n",
       "  <tbody>\n",
       "    <tr>\n",
       "      <th>Death</th>\n",
       "      <td>19</td>\n",
       "      <td>11</td>\n",
       "      <td>30</td>\n",
       "    </tr>\n",
       "    <tr>\n",
       "      <th>Censored</th>\n",
       "      <td>15</td>\n",
       "      <td>43</td>\n",
       "      <td>58</td>\n",
       "    </tr>\n",
       "    <tr>\n",
       "      <th>Total</th>\n",
       "      <td>34</td>\n",
       "      <td>54</td>\n",
       "      <td>88</td>\n",
       "    </tr>\n",
       "  </tbody>\n",
       "</table>\n",
       "</div>"
      ],
      "text/plain": [
       "          has_immunity_sick_cells  no_immunity_sick_cells  Total\n",
       "Death                          19                      11     30\n",
       "Censored                       15                      43     58\n",
       "Total                          34                      54     88"
      ]
     },
     "execution_count": 23,
     "metadata": {},
     "output_type": "execute_result"
    }
   ],
   "source": [
    "cnt = pd.DataFrame([\n",
    "    [df[(df[\"has_immunity_sick_cells\"] == \"YES\") & (df[\"OS\"] == 1)].shape[0],df[(df[\"has_immunity_sick_cells\"] == \"NO\") & (df[\"OS\"] == 1)].shape[0],0],\n",
    "    [df[(df[\"has_immunity_sick_cells\"] == \"YES\") & (df[\"OS\"] == 0)].shape[0],df[(df[\"has_immunity_sick_cells\"] == \"NO\") & (df[\"OS\"] == 0)].shape[0],0],\n",
    "    [0,0,0]\n",
    "],columns=[\"has_immunity_sick_cells\",\"no_immunity_sick_cells\",\"Total\"],index=[\"Death\",\"Censored\",\"Total\"])\n",
    "cnt.loc[\"Total\"] = cnt.sum()\n",
    "cnt[\"Total\"] = cnt.iloc[:,0:2].sum(1)\n",
    "cnt.head()"
   ]
  },
  {
   "cell_type": "markdown",
   "metadata": {},
   "source": [
    "Now, we use the data to estimate the coefficient, and determine the statistical significance of these results."
   ]
  },
  {
   "cell_type": "code",
   "execution_count": 24,
   "metadata": {},
   "outputs": [
    {
     "data": {
      "text/html": [
       "<div>\n",
       "<style scoped>\n",
       "    .dataframe tbody tr th:only-of-type {\n",
       "        vertical-align: middle;\n",
       "    }\n",
       "\n",
       "    .dataframe tbody tr th {\n",
       "        vertical-align: top;\n",
       "    }\n",
       "\n",
       "    .dataframe thead th {\n",
       "        text-align: right;\n",
       "    }\n",
       "</style>\n",
       "<table border=\"1\" class=\"dataframe\">\n",
       "  <tbody>\n",
       "    <tr>\n",
       "      <th>model</th>\n",
       "      <td>lifelines.CoxPHFitter</td>\n",
       "    </tr>\n",
       "    <tr>\n",
       "      <th>duration col</th>\n",
       "      <td>'OS.time'</td>\n",
       "    </tr>\n",
       "    <tr>\n",
       "      <th>event col</th>\n",
       "      <td>'OS'</td>\n",
       "    </tr>\n",
       "    <tr>\n",
       "      <th>baseline estimation</th>\n",
       "      <td>breslow</td>\n",
       "    </tr>\n",
       "    <tr>\n",
       "      <th>number of observations</th>\n",
       "      <td>88</td>\n",
       "    </tr>\n",
       "    <tr>\n",
       "      <th>number of events observed</th>\n",
       "      <td>30</td>\n",
       "    </tr>\n",
       "    <tr>\n",
       "      <th>partial log-likelihood</th>\n",
       "      <td>-115.08</td>\n",
       "    </tr>\n",
       "    <tr>\n",
       "      <th>time fit was run</th>\n",
       "      <td>2024-02-14 15:57:41 UTC</td>\n",
       "    </tr>\n",
       "  </tbody>\n",
       "</table>\n",
       "</div><table border=\"1\" class=\"dataframe\">\n",
       "  <thead>\n",
       "    <tr style=\"text-align: right;\">\n",
       "      <th style=\"min-width: 12px;\"></th>\n",
       "      <th style=\"min-width: 12px;\">coef</th>\n",
       "      <th style=\"min-width: 12px;\">exp(coef)</th>\n",
       "      <th style=\"min-width: 12px;\">se(coef)</th>\n",
       "      <th style=\"min-width: 12px;\">coef lower 95%</th>\n",
       "      <th style=\"min-width: 12px;\">coef upper 95%</th>\n",
       "      <th style=\"min-width: 12px;\">exp(coef) lower 95%</th>\n",
       "      <th style=\"min-width: 12px;\">exp(coef) upper 95%</th>\n",
       "      <th style=\"min-width: 12px;\">z</th>\n",
       "      <th style=\"min-width: 12px;\">p</th>\n",
       "      <th style=\"min-width: 12px;\">-log2(p)</th>\n",
       "    </tr>\n",
       "  </thead>\n",
       "  <tbody>\n",
       "    <tr>\n",
       "      <th>C(has_immunity_sick_cells)[T.YES]</th>\n",
       "      <td>1.29</td>\n",
       "      <td>3.62</td>\n",
       "      <td>0.38</td>\n",
       "      <td>0.54</td>\n",
       "      <td>2.03</td>\n",
       "      <td>1.71</td>\n",
       "      <td>7.64</td>\n",
       "      <td>3.37</td>\n",
       "      <td>&lt;0.005</td>\n",
       "      <td>10.38</td>\n",
       "    </tr>\n",
       "  </tbody>\n",
       "</table><br><div>\n",
       "<style scoped>\n",
       "    .dataframe tbody tr th:only-of-type {\n",
       "        vertical-align: middle;\n",
       "    }\n",
       "\n",
       "    .dataframe tbody tr th {\n",
       "        vertical-align: top;\n",
       "    }\n",
       "\n",
       "    .dataframe thead th {\n",
       "        text-align: right;\n",
       "    }\n",
       "</style>\n",
       "<table border=\"1\" class=\"dataframe\">\n",
       "  <tbody>\n",
       "    <tr>\n",
       "      <th>Concordance</th>\n",
       "      <td>0.67</td>\n",
       "    </tr>\n",
       "    <tr>\n",
       "      <th>Partial AIC</th>\n",
       "      <td>232.17</td>\n",
       "    </tr>\n",
       "    <tr>\n",
       "      <th>log-likelihood ratio test</th>\n",
       "      <td>11.92 on 1 df</td>\n",
       "    </tr>\n",
       "    <tr>\n",
       "      <th>-log2(p) of ll-ratio test</th>\n",
       "      <td>10.81</td>\n",
       "    </tr>\n",
       "  </tbody>\n",
       "</table>\n",
       "</div>"
      ],
      "text/latex": [
       "\\begin{tabular}{lrrrrrrrrrr}\n",
       "\\toprule\n",
       "{} &  coef &  exp(coef) &  se(coef) &  coef lower 95\\% &  coef upper 95\\% &  exp(coef) lower 95\\% &  exp(coef) upper 95\\% &    z &    p &  -log2(p) \\\\\n",
       "covariate                         &       &            &           &                 &                 &                      &                      &      &      &           \\\\\n",
       "\\midrule\n",
       "C(has\\_immunity\\_sick\\_cells)[T.YES] &  1.29 &       3.62 &      0.38 &            0.54 &            2.03 &                 1.71 &                 7.64 & 3.37 & 0.00 &     10.38 \\\\\n",
       "\\bottomrule\n",
       "\\end{tabular}\n"
      ],
      "text/plain": [
       "<lifelines.CoxPHFitter: fitted with 88 total observations, 58 right-censored observations>\n",
       "             duration col = 'OS.time'\n",
       "                event col = 'OS'\n",
       "      baseline estimation = breslow\n",
       "   number of observations = 88\n",
       "number of events observed = 30\n",
       "   partial log-likelihood = -115.08\n",
       "         time fit was run = 2024-02-14 15:57:41 UTC\n",
       "\n",
       "---\n",
       "                                    coef  exp(coef)   se(coef)   coef lower 95%   coef upper 95%  exp(coef) lower 95%  exp(coef) upper 95%\n",
       "covariate                                                                                                                                 \n",
       "C(has_immunity_sick_cells)[T.YES]   1.29       3.62       0.38             0.54             2.03                 1.71                 7.64\n",
       "\n",
       "                                     z      p   -log2(p)\n",
       "covariate                                               \n",
       "C(has_immunity_sick_cells)[T.YES] 3.37 <0.005      10.38\n",
       "---\n",
       "Concordance = 0.67\n",
       "Partial AIC = 232.17\n",
       "log-likelihood ratio test = 11.92 on 1 df\n",
       "-log2(p) of ll-ratio test = 10.81"
      ]
     },
     "metadata": {},
     "output_type": "display_data"
    },
    {
     "name": "stdout",
     "output_type": "stream",
     "text": [
      "Proportional hazard assumption looks okay.\n"
     ]
    },
    {
     "data": {
      "text/plain": [
       "[]"
      ]
     },
     "execution_count": 24,
     "metadata": {},
     "output_type": "execute_result"
    }
   ],
   "source": [
    "summ = None\n",
    "cox = lifelines.CoxPHFitter()\n",
    "cox.fit(df[[\"has_immunity_sick_cells\",\"OS\",\"OS.time\"]],event_col= \"OS\", duration_col=\"OS.time\",formula=\"C(has_immunity_sick_cells)\")\n",
    "cox.print_summary()\n",
    "cox.check_assumptions(df[[\"has_immunity_sick_cells\",\"OS\",\"OS.time\"]],False)"
   ]
  },
  {
   "cell_type": "markdown",
   "metadata": {},
   "source": [
    "We would expect the presence of immunity sick cells to increase the risk of death, e.g. positive coefficients. As expected, the presence of the variable increases the hazard on patients and the small p-value confirms that this result is statistically significant.\n",
    "\n",
    "Remember that our formula was:\n",
    "\n",
    "$$h_i(t)=h_o(t)exp(x_i^T\\beta)$$\n",
    "\n",
    "and $x_i=1$ means that the patient has an immunity sick cell. So, the associated hazard is:\n",
    "$$h_i(t)=h_o(t)exp(1 * 1.29)$$\n",
    "\n",
    "since $h_o(t)$ is unknown, we can not calculate the hazard of this patient. However, we can calculate the hazard ratio of someone that has an immunity sick cell and someone who does not.\n",
    "\n",
    "$$\\frac{h_i}{h_j} = \\frac{h_o(t)exp(1 * 1.29)}{h_o(t)exp(0 * 1.29)} = \\frac{3.62}{1} = 3.62$$\n",
    "\n",
    "This means that someone that with an immunity sick cell is **3.62** times more likely to die than someone who does not.\n",
    "\n",
    "We evaluate the model by checking the *Concordance*, *Akaike information criterion (AIC)*, and the *Log Likelihood*. Here, our concordance is **67%** which describes how much our model fits the data. Also, the higher the log likelihood the better. "
   ]
  },
  {
   "cell_type": "markdown",
   "metadata": {},
   "source": [
    "#### Gender"
   ]
  },
  {
   "cell_type": "markdown",
   "metadata": {},
   "source": [
    "Studies indicate that males have a higher risk of death for certain cancer types than females. Therefore, we expect to have a positive coefficent for males when compared to females."
   ]
  },
  {
   "cell_type": "code",
   "execution_count": 25,
   "metadata": {},
   "outputs": [
    {
     "data": {
      "text/html": [
       "<div>\n",
       "<style scoped>\n",
       "    .dataframe tbody tr th:only-of-type {\n",
       "        vertical-align: middle;\n",
       "    }\n",
       "\n",
       "    .dataframe tbody tr th {\n",
       "        vertical-align: top;\n",
       "    }\n",
       "\n",
       "    .dataframe thead th {\n",
       "        text-align: right;\n",
       "    }\n",
       "</style>\n",
       "<table border=\"1\" class=\"dataframe\">\n",
       "  <thead>\n",
       "    <tr style=\"text-align: right;\">\n",
       "      <th></th>\n",
       "      <th>Male</th>\n",
       "      <th>Female</th>\n",
       "      <th>Total</th>\n",
       "    </tr>\n",
       "  </thead>\n",
       "  <tbody>\n",
       "    <tr>\n",
       "      <th>Death</th>\n",
       "      <td>9</td>\n",
       "      <td>21</td>\n",
       "      <td>30</td>\n",
       "    </tr>\n",
       "    <tr>\n",
       "      <th>Censored</th>\n",
       "      <td>21</td>\n",
       "      <td>37</td>\n",
       "      <td>58</td>\n",
       "    </tr>\n",
       "    <tr>\n",
       "      <th>Total</th>\n",
       "      <td>30</td>\n",
       "      <td>58</td>\n",
       "      <td>88</td>\n",
       "    </tr>\n",
       "  </tbody>\n",
       "</table>\n",
       "</div>"
      ],
      "text/plain": [
       "          Male  Female  Total\n",
       "Death        9      21     30\n",
       "Censored    21      37     58\n",
       "Total       30      58     88"
      ]
     },
     "execution_count": 25,
     "metadata": {},
     "output_type": "execute_result"
    }
   ],
   "source": [
    "cnt = pd.DataFrame([\n",
    "    [df[(df[\"gender\"] == \"MALE\") & (df[\"OS\"] == 1)].shape[0],df[(df[\"gender\"] == \"FEMALE\") & (df[\"OS\"] == 1)].shape[0],0],\n",
    "    [df[(df[\"gender\"] == \"MALE\") & (df[\"OS\"] == 0)].shape[0],df[(df[\"gender\"] == \"FEMALE\") & (df[\"OS\"] == 0)].shape[0],0],\n",
    "    [0,0,0]\n",
    "],columns=[\"Male\",\"Female\",\"Total\"],index=[\"Death\",\"Censored\",\"Total\"])\n",
    "cnt.loc[\"Total\"] = cnt.sum()\n",
    "cnt[\"Total\"] = cnt.iloc[:,0:2].sum(1)\n",
    "cnt.head()"
   ]
  },
  {
   "cell_type": "code",
   "execution_count": 26,
   "metadata": {},
   "outputs": [
    {
     "data": {
      "text/html": [
       "<div>\n",
       "<style scoped>\n",
       "    .dataframe tbody tr th:only-of-type {\n",
       "        vertical-align: middle;\n",
       "    }\n",
       "\n",
       "    .dataframe tbody tr th {\n",
       "        vertical-align: top;\n",
       "    }\n",
       "\n",
       "    .dataframe thead th {\n",
       "        text-align: right;\n",
       "    }\n",
       "</style>\n",
       "<table border=\"1\" class=\"dataframe\">\n",
       "  <tbody>\n",
       "    <tr>\n",
       "      <th>model</th>\n",
       "      <td>lifelines.CoxPHFitter</td>\n",
       "    </tr>\n",
       "    <tr>\n",
       "      <th>duration col</th>\n",
       "      <td>'OS.time'</td>\n",
       "    </tr>\n",
       "    <tr>\n",
       "      <th>event col</th>\n",
       "      <td>'OS'</td>\n",
       "    </tr>\n",
       "    <tr>\n",
       "      <th>baseline estimation</th>\n",
       "      <td>breslow</td>\n",
       "    </tr>\n",
       "    <tr>\n",
       "      <th>number of observations</th>\n",
       "      <td>88</td>\n",
       "    </tr>\n",
       "    <tr>\n",
       "      <th>number of events observed</th>\n",
       "      <td>30</td>\n",
       "    </tr>\n",
       "    <tr>\n",
       "      <th>partial log-likelihood</th>\n",
       "      <td>-120.84</td>\n",
       "    </tr>\n",
       "    <tr>\n",
       "      <th>time fit was run</th>\n",
       "      <td>2024-02-14 15:57:41 UTC</td>\n",
       "    </tr>\n",
       "  </tbody>\n",
       "</table>\n",
       "</div><table border=\"1\" class=\"dataframe\">\n",
       "  <thead>\n",
       "    <tr style=\"text-align: right;\">\n",
       "      <th style=\"min-width: 12px;\"></th>\n",
       "      <th style=\"min-width: 12px;\">coef</th>\n",
       "      <th style=\"min-width: 12px;\">exp(coef)</th>\n",
       "      <th style=\"min-width: 12px;\">se(coef)</th>\n",
       "      <th style=\"min-width: 12px;\">coef lower 95%</th>\n",
       "      <th style=\"min-width: 12px;\">coef upper 95%</th>\n",
       "      <th style=\"min-width: 12px;\">exp(coef) lower 95%</th>\n",
       "      <th style=\"min-width: 12px;\">exp(coef) upper 95%</th>\n",
       "      <th style=\"min-width: 12px;\">z</th>\n",
       "      <th style=\"min-width: 12px;\">p</th>\n",
       "      <th style=\"min-width: 12px;\">-log2(p)</th>\n",
       "    </tr>\n",
       "  </thead>\n",
       "  <tbody>\n",
       "    <tr>\n",
       "      <th>C(gender)[T.MALE]</th>\n",
       "      <td>-0.25</td>\n",
       "      <td>0.78</td>\n",
       "      <td>0.40</td>\n",
       "      <td>-1.03</td>\n",
       "      <td>0.53</td>\n",
       "      <td>0.36</td>\n",
       "      <td>1.71</td>\n",
       "      <td>-0.62</td>\n",
       "      <td>0.53</td>\n",
       "      <td>0.90</td>\n",
       "    </tr>\n",
       "  </tbody>\n",
       "</table><br><div>\n",
       "<style scoped>\n",
       "    .dataframe tbody tr th:only-of-type {\n",
       "        vertical-align: middle;\n",
       "    }\n",
       "\n",
       "    .dataframe tbody tr th {\n",
       "        vertical-align: top;\n",
       "    }\n",
       "\n",
       "    .dataframe thead th {\n",
       "        text-align: right;\n",
       "    }\n",
       "</style>\n",
       "<table border=\"1\" class=\"dataframe\">\n",
       "  <tbody>\n",
       "    <tr>\n",
       "      <th>Concordance</th>\n",
       "      <td>0.52</td>\n",
       "    </tr>\n",
       "    <tr>\n",
       "      <th>Partial AIC</th>\n",
       "      <td>243.69</td>\n",
       "    </tr>\n",
       "    <tr>\n",
       "      <th>log-likelihood ratio test</th>\n",
       "      <td>0.40 on 1 df</td>\n",
       "    </tr>\n",
       "    <tr>\n",
       "      <th>-log2(p) of ll-ratio test</th>\n",
       "      <td>0.92</td>\n",
       "    </tr>\n",
       "  </tbody>\n",
       "</table>\n",
       "</div>"
      ],
      "text/latex": [
       "\\begin{tabular}{lrrrrrrrrrr}\n",
       "\\toprule\n",
       "{} &  coef &  exp(coef) &  se(coef) &  coef lower 95\\% &  coef upper 95\\% &  exp(coef) lower 95\\% &  exp(coef) upper 95\\% &     z &    p &  -log2(p) \\\\\n",
       "covariate         &       &            &           &                 &                 &                      &                      &       &      &           \\\\\n",
       "\\midrule\n",
       "C(gender)[T.MALE] & -0.25 &       0.78 &      0.40 &           -1.03 &            0.53 &                 0.36 &                 1.71 & -0.62 & 0.53 &      0.90 \\\\\n",
       "\\bottomrule\n",
       "\\end{tabular}\n"
      ],
      "text/plain": [
       "<lifelines.CoxPHFitter: fitted with 88 total observations, 58 right-censored observations>\n",
       "             duration col = 'OS.time'\n",
       "                event col = 'OS'\n",
       "      baseline estimation = breslow\n",
       "   number of observations = 88\n",
       "number of events observed = 30\n",
       "   partial log-likelihood = -120.84\n",
       "         time fit was run = 2024-02-14 15:57:41 UTC\n",
       "\n",
       "---\n",
       "                    coef  exp(coef)   se(coef)   coef lower 95%   coef upper 95%  exp(coef) lower 95%  exp(coef) upper 95%\n",
       "covariate                                                                                                                 \n",
       "C(gender)[T.MALE]  -0.25       0.78       0.40            -1.03             0.53                 0.36                 1.71\n",
       "\n",
       "                      z    p   -log2(p)\n",
       "covariate                              \n",
       "C(gender)[T.MALE] -0.62 0.53       0.90\n",
       "---\n",
       "Concordance = 0.52\n",
       "Partial AIC = 243.69\n",
       "log-likelihood ratio test = 0.40 on 1 df\n",
       "-log2(p) of ll-ratio test = 0.92"
      ]
     },
     "metadata": {},
     "output_type": "display_data"
    },
    {
     "name": "stdout",
     "output_type": "stream",
     "text": [
      "Proportional hazard assumption looks okay.\n"
     ]
    },
    {
     "data": {
      "text/plain": [
       "[]"
      ]
     },
     "execution_count": 26,
     "metadata": {},
     "output_type": "execute_result"
    }
   ],
   "source": [
    "summ = None\n",
    "cox = lifelines.CoxPHFitter()\n",
    "cox.fit(df[[\"gender\",\"OS\",\"OS.time\"]],event_col= \"OS\", duration_col=\"OS.time\",formula=\"C(gender)\")\n",
    "cox.print_summary()\n",
    "cox.check_assumptions(df[[\"gender\",\"OS\",\"OS.time\"]],False)"
   ]
  },
  {
   "cell_type": "markdown",
   "metadata": {},
   "source": [
    "In our case, we have negative coeficients, however, the results are statistically insignificant. Also, the concordance is **52%** which is slightly better than a coin toss."
   ]
  },
  {
   "cell_type": "markdown",
   "metadata": {},
   "source": [
    "#### Age"
   ]
  },
  {
   "cell_type": "markdown",
   "metadata": {},
   "source": [
    "First, we plot the visualize the data and check for skewness."
   ]
  },
  {
   "cell_type": "code",
   "execution_count": 27,
   "metadata": {},
   "outputs": [
    {
     "data": {
      "image/png": "[encoded data removed]",
      "text/plain": [
       "<Figure size 432x288 with 1 Axes>"
      ]
     },
     "metadata": {
      "needs_background": "light"
     },
     "output_type": "display_data"
    }
   ],
   "source": [
    "plt.hist(df['age'], bins=15)\n",
    "plt.title(\"Histogram of the Age\")\n",
    "plt.xlabel(\"Age\")\n",
    "_ = plt.ylabel(\"Count\")"
   ]
  },
  {
   "cell_type": "markdown",
   "metadata": {},
   "source": [
    "We would expect that the risk of death is associated with increase in age."
   ]
  },
  {
   "cell_type": "code",
   "execution_count": 28,
   "metadata": {},
   "outputs": [
    {
     "data": {
      "text/html": [
       "<div>\n",
       "<style scoped>\n",
       "    .dataframe tbody tr th:only-of-type {\n",
       "        vertical-align: middle;\n",
       "    }\n",
       "\n",
       "    .dataframe tbody tr th {\n",
       "        vertical-align: top;\n",
       "    }\n",
       "\n",
       "    .dataframe thead th {\n",
       "        text-align: right;\n",
       "    }\n",
       "</style>\n",
       "<table border=\"1\" class=\"dataframe\">\n",
       "  <tbody>\n",
       "    <tr>\n",
       "      <th>model</th>\n",
       "      <td>lifelines.CoxPHFitter</td>\n",
       "    </tr>\n",
       "    <tr>\n",
       "      <th>duration col</th>\n",
       "      <td>'OS.time'</td>\n",
       "    </tr>\n",
       "    <tr>\n",
       "      <th>event col</th>\n",
       "      <td>'OS'</td>\n",
       "    </tr>\n",
       "    <tr>\n",
       "      <th>baseline estimation</th>\n",
       "      <td>breslow</td>\n",
       "    </tr>\n",
       "    <tr>\n",
       "      <th>number of observations</th>\n",
       "      <td>88</td>\n",
       "    </tr>\n",
       "    <tr>\n",
       "      <th>number of events observed</th>\n",
       "      <td>30</td>\n",
       "    </tr>\n",
       "    <tr>\n",
       "      <th>partial log-likelihood</th>\n",
       "      <td>-120.68</td>\n",
       "    </tr>\n",
       "    <tr>\n",
       "      <th>time fit was run</th>\n",
       "      <td>2024-02-14 15:57:41 UTC</td>\n",
       "    </tr>\n",
       "  </tbody>\n",
       "</table>\n",
       "</div><table border=\"1\" class=\"dataframe\">\n",
       "  <thead>\n",
       "    <tr style=\"text-align: right;\">\n",
       "      <th style=\"min-width: 12px;\"></th>\n",
       "      <th style=\"min-width: 12px;\">coef</th>\n",
       "      <th style=\"min-width: 12px;\">exp(coef)</th>\n",
       "      <th style=\"min-width: 12px;\">se(coef)</th>\n",
       "      <th style=\"min-width: 12px;\">coef lower 95%</th>\n",
       "      <th style=\"min-width: 12px;\">coef upper 95%</th>\n",
       "      <th style=\"min-width: 12px;\">exp(coef) lower 95%</th>\n",
       "      <th style=\"min-width: 12px;\">exp(coef) upper 95%</th>\n",
       "      <th style=\"min-width: 12px;\">z</th>\n",
       "      <th style=\"min-width: 12px;\">p</th>\n",
       "      <th style=\"min-width: 12px;\">-log2(p)</th>\n",
       "    </tr>\n",
       "  </thead>\n",
       "  <tbody>\n",
       "    <tr>\n",
       "      <th>age</th>\n",
       "      <td>0.01</td>\n",
       "      <td>1.01</td>\n",
       "      <td>0.01</td>\n",
       "      <td>-0.01</td>\n",
       "      <td>0.03</td>\n",
       "      <td>0.99</td>\n",
       "      <td>1.03</td>\n",
       "      <td>0.84</td>\n",
       "      <td>0.40</td>\n",
       "      <td>1.32</td>\n",
       "    </tr>\n",
       "  </tbody>\n",
       "</table><br><div>\n",
       "<style scoped>\n",
       "    .dataframe tbody tr th:only-of-type {\n",
       "        vertical-align: middle;\n",
       "    }\n",
       "\n",
       "    .dataframe tbody tr th {\n",
       "        vertical-align: top;\n",
       "    }\n",
       "\n",
       "    .dataframe thead th {\n",
       "        text-align: right;\n",
       "    }\n",
       "</style>\n",
       "<table border=\"1\" class=\"dataframe\">\n",
       "  <tbody>\n",
       "    <tr>\n",
       "      <th>Concordance</th>\n",
       "      <td>0.55</td>\n",
       "    </tr>\n",
       "    <tr>\n",
       "      <th>Partial AIC</th>\n",
       "      <td>243.37</td>\n",
       "    </tr>\n",
       "    <tr>\n",
       "      <th>log-likelihood ratio test</th>\n",
       "      <td>0.72 on 1 df</td>\n",
       "    </tr>\n",
       "    <tr>\n",
       "      <th>-log2(p) of ll-ratio test</th>\n",
       "      <td>1.33</td>\n",
       "    </tr>\n",
       "  </tbody>\n",
       "</table>\n",
       "</div>"
      ],
      "text/latex": [
       "\\begin{tabular}{lrrrrrrrrrr}\n",
       "\\toprule\n",
       "{} &  coef &  exp(coef) &  se(coef) &  coef lower 95\\% &  coef upper 95\\% &  exp(coef) lower 95\\% &  exp(coef) upper 95\\% &    z &    p &  -log2(p) \\\\\n",
       "covariate &       &            &           &                 &                 &                      &                      &      &      &           \\\\\n",
       "\\midrule\n",
       "age       &  0.01 &       1.01 &      0.01 &           -0.01 &            0.03 &                 0.99 &                 1.03 & 0.84 & 0.40 &      1.32 \\\\\n",
       "\\bottomrule\n",
       "\\end{tabular}\n"
      ],
      "text/plain": [
       "<lifelines.CoxPHFitter: fitted with 88 total observations, 58 right-censored observations>\n",
       "             duration col = 'OS.time'\n",
       "                event col = 'OS'\n",
       "      baseline estimation = breslow\n",
       "   number of observations = 88\n",
       "number of events observed = 30\n",
       "   partial log-likelihood = -120.68\n",
       "         time fit was run = 2024-02-14 15:57:41 UTC\n",
       "\n",
       "---\n",
       "            coef  exp(coef)   se(coef)   coef lower 95%   coef upper 95%  exp(coef) lower 95%  exp(coef) upper 95%\n",
       "covariate                                                                                                         \n",
       "age         0.01       1.01       0.01            -0.01             0.03                 0.99                 1.03\n",
       "\n",
       "             z    p   -log2(p)\n",
       "covariate                     \n",
       "age       0.84 0.40       1.32\n",
       "---\n",
       "Concordance = 0.55\n",
       "Partial AIC = 243.37\n",
       "log-likelihood ratio test = 0.72 on 1 df\n",
       "-log2(p) of ll-ratio test = 1.33"
      ]
     },
     "metadata": {},
     "output_type": "display_data"
    },
    {
     "name": "stdout",
     "output_type": "stream",
     "text": [
      "Proportional hazard assumption looks okay.\n"
     ]
    },
    {
     "data": {
      "text/plain": [
       "[]"
      ]
     },
     "execution_count": 28,
     "metadata": {},
     "output_type": "execute_result"
    }
   ],
   "source": [
    "summ = None\n",
    "cox = lifelines.CoxPHFitter()\n",
    "cox.fit(df[[\"age\",\"OS\",\"OS.time\"]],event_col= \"OS\", duration_col=\"OS.time\",formula=\"age\")\n",
    "cox.print_summary()\n",
    "cox.check_assumptions(df[[\"age\",\"OS\",\"OS.time\"]],False)"
   ]
  },
  {
   "cell_type": "markdown",
   "metadata": {},
   "source": [
    "Surprisingly, age seems to have no effect on survival."
   ]
  },
  {
   "cell_type": "markdown",
   "metadata": {},
   "source": [
    "#### Total Sick Cells"
   ]
  },
  {
   "cell_type": "markdown",
   "metadata": {},
   "source": [
    "First, we plot the distribution of the data and check for normality. Clearly, the data is very skewed, hence, we apply log transformation."
   ]
  },
  {
   "cell_type": "code",
   "execution_count": 29,
   "metadata": {},
   "outputs": [
    {
     "data": {
      "image/png": "[encoded data removed]",
      "text/plain": [
       "<Figure size 432x288 with 1 Axes>"
      ]
     },
     "metadata": {
      "needs_background": "light"
     },
     "output_type": "display_data"
    }
   ],
   "source": [
    "plt.hist(df['total_sick_cells'], bins=30)\n",
    "plt.title(\"Histogram of the Total Sick Cells\")\n",
    "plt.xlabel(\"Total Sick Cells\")\n",
    "_=plt.ylabel(\"Count\")"
   ]
  },
  {
   "cell_type": "code",
   "execution_count": 30,
   "metadata": {},
   "outputs": [
    {
     "data": {
      "image/png": "[encoded data removed]",
      "text/plain": [
       "<Figure size 432x288 with 1 Axes>"
      ]
     },
     "metadata": {
      "needs_background": "light"
     },
     "output_type": "display_data"
    }
   ],
   "source": [
    "df['Log10_total_sick_cells'] = np.log10(df[\"total_sick_cells\"])\n",
    "plt.hist(df['Log10_total_sick_cells'], bins=30)\n",
    "plt.title(\"Histogram of the $log_{10}$ Total Sick Cells\")\n",
    "plt.xlabel(\"$log_{10}$ Total Sick Cells\")\n",
    "_=plt.ylabel(\"Count\")"
   ]
  },
  {
   "cell_type": "markdown",
   "metadata": {},
   "source": [
    "We would expect the risk to increase when there is a big number of sick cells."
   ]
  },
  {
   "cell_type": "code",
   "execution_count": 31,
   "metadata": {},
   "outputs": [
    {
     "data": {
      "text/html": [
       "<div>\n",
       "<style scoped>\n",
       "    .dataframe tbody tr th:only-of-type {\n",
       "        vertical-align: middle;\n",
       "    }\n",
       "\n",
       "    .dataframe tbody tr th {\n",
       "        vertical-align: top;\n",
       "    }\n",
       "\n",
       "    .dataframe thead th {\n",
       "        text-align: right;\n",
       "    }\n",
       "</style>\n",
       "<table border=\"1\" class=\"dataframe\">\n",
       "  <tbody>\n",
       "    <tr>\n",
       "      <th>model</th>\n",
       "      <td>lifelines.CoxPHFitter</td>\n",
       "    </tr>\n",
       "    <tr>\n",
       "      <th>duration col</th>\n",
       "      <td>'OS.time'</td>\n",
       "    </tr>\n",
       "    <tr>\n",
       "      <th>event col</th>\n",
       "      <td>'OS'</td>\n",
       "    </tr>\n",
       "    <tr>\n",
       "      <th>baseline estimation</th>\n",
       "      <td>breslow</td>\n",
       "    </tr>\n",
       "    <tr>\n",
       "      <th>number of observations</th>\n",
       "      <td>88</td>\n",
       "    </tr>\n",
       "    <tr>\n",
       "      <th>number of events observed</th>\n",
       "      <td>30</td>\n",
       "    </tr>\n",
       "    <tr>\n",
       "      <th>partial log-likelihood</th>\n",
       "      <td>-114.16</td>\n",
       "    </tr>\n",
       "    <tr>\n",
       "      <th>time fit was run</th>\n",
       "      <td>2024-02-14 15:57:43 UTC</td>\n",
       "    </tr>\n",
       "  </tbody>\n",
       "</table>\n",
       "</div><table border=\"1\" class=\"dataframe\">\n",
       "  <thead>\n",
       "    <tr style=\"text-align: right;\">\n",
       "      <th style=\"min-width: 12px;\"></th>\n",
       "      <th style=\"min-width: 12px;\">coef</th>\n",
       "      <th style=\"min-width: 12px;\">exp(coef)</th>\n",
       "      <th style=\"min-width: 12px;\">se(coef)</th>\n",
       "      <th style=\"min-width: 12px;\">coef lower 95%</th>\n",
       "      <th style=\"min-width: 12px;\">coef upper 95%</th>\n",
       "      <th style=\"min-width: 12px;\">exp(coef) lower 95%</th>\n",
       "      <th style=\"min-width: 12px;\">exp(coef) upper 95%</th>\n",
       "      <th style=\"min-width: 12px;\">z</th>\n",
       "      <th style=\"min-width: 12px;\">p</th>\n",
       "      <th style=\"min-width: 12px;\">-log2(p)</th>\n",
       "    </tr>\n",
       "  </thead>\n",
       "  <tbody>\n",
       "    <tr>\n",
       "      <th>Log10_total_sick_cells</th>\n",
       "      <td>1.19</td>\n",
       "      <td>3.27</td>\n",
       "      <td>0.29</td>\n",
       "      <td>0.62</td>\n",
       "      <td>1.75</td>\n",
       "      <td>1.86</td>\n",
       "      <td>5.76</td>\n",
       "      <td>4.10</td>\n",
       "      <td>&lt;0.005</td>\n",
       "      <td>14.59</td>\n",
       "    </tr>\n",
       "  </tbody>\n",
       "</table><br><div>\n",
       "<style scoped>\n",
       "    .dataframe tbody tr th:only-of-type {\n",
       "        vertical-align: middle;\n",
       "    }\n",
       "\n",
       "    .dataframe tbody tr th {\n",
       "        vertical-align: top;\n",
       "    }\n",
       "\n",
       "    .dataframe thead th {\n",
       "        text-align: right;\n",
       "    }\n",
       "</style>\n",
       "<table border=\"1\" class=\"dataframe\">\n",
       "  <tbody>\n",
       "    <tr>\n",
       "      <th>Concordance</th>\n",
       "      <td>0.75</td>\n",
       "    </tr>\n",
       "    <tr>\n",
       "      <th>Partial AIC</th>\n",
       "      <td>230.32</td>\n",
       "    </tr>\n",
       "    <tr>\n",
       "      <th>log-likelihood ratio test</th>\n",
       "      <td>13.76 on 1 df</td>\n",
       "    </tr>\n",
       "    <tr>\n",
       "      <th>-log2(p) of ll-ratio test</th>\n",
       "      <td>12.24</td>\n",
       "    </tr>\n",
       "  </tbody>\n",
       "</table>\n",
       "</div>"
      ],
      "text/latex": [
       "\\begin{tabular}{lrrrrrrrrrr}\n",
       "\\toprule\n",
       "{} &  coef &  exp(coef) &  se(coef) &  coef lower 95\\% &  coef upper 95\\% &  exp(coef) lower 95\\% &  exp(coef) upper 95\\% &    z &    p &  -log2(p) \\\\\n",
       "covariate              &       &            &           &                 &                 &                      &                      &      &      &           \\\\\n",
       "\\midrule\n",
       "Log10\\_total\\_sick\\_cells &  1.19 &       3.27 &      0.29 &            0.62 &            1.75 &                 1.86 &                 5.76 & 4.10 & 0.00 &     14.59 \\\\\n",
       "\\bottomrule\n",
       "\\end{tabular}\n"
      ],
      "text/plain": [
       "<lifelines.CoxPHFitter: fitted with 88 total observations, 58 right-censored observations>\n",
       "             duration col = 'OS.time'\n",
       "                event col = 'OS'\n",
       "      baseline estimation = breslow\n",
       "   number of observations = 88\n",
       "number of events observed = 30\n",
       "   partial log-likelihood = -114.16\n",
       "         time fit was run = 2024-02-14 15:57:43 UTC\n",
       "\n",
       "---\n",
       "                         coef  exp(coef)   se(coef)   coef lower 95%   coef upper 95%  exp(coef) lower 95%  exp(coef) upper 95%\n",
       "covariate                                                                                                                      \n",
       "Log10_total_sick_cells   1.19       3.27       0.29             0.62             1.75                 1.86                 5.76\n",
       "\n",
       "                          z      p   -log2(p)\n",
       "covariate                                    \n",
       "Log10_total_sick_cells 4.10 <0.005      14.59\n",
       "---\n",
       "Concordance = 0.75\n",
       "Partial AIC = 230.32\n",
       "log-likelihood ratio test = 13.76 on 1 df\n",
       "-log2(p) of ll-ratio test = 12.24"
      ]
     },
     "metadata": {},
     "output_type": "display_data"
    },
    {
     "name": "stdout",
     "output_type": "stream",
     "text": [
      "Proportional hazard assumption looks okay.\n"
     ]
    },
    {
     "data": {
      "text/plain": [
       "[]"
      ]
     },
     "execution_count": 31,
     "metadata": {},
     "output_type": "execute_result"
    }
   ],
   "source": [
    "summ = None\n",
    "cox = lifelines.CoxPHFitter()\n",
    "cox.fit(df[[\"Log10_total_sick_cells\",\"OS\",\"OS.time\"]],event_col= \"OS\", duration_col=\"OS.time\",formula=\"Log10_total_sick_cells\")\n",
    "cox.print_summary()\n",
    "cox.check_assumptions(df[[\"Log10_total_sick_cells\",\"OS\",\"OS.time\"]],False)"
   ]
  },
  {
   "cell_type": "markdown",
   "metadata": {},
   "source": [
    "Indeed, the increase in the number of sick cells increases the hazard and it is statistically significant. Since we are using the log scale this means that every increase of **10** sick cells increases the hazard by **3.29** times."
   ]
  },
  {
   "cell_type": "markdown",
   "metadata": {},
   "source": [
    "### Multivariate Model"
   ]
  },
  {
   "cell_type": "markdown",
   "metadata": {},
   "source": [
    "So far we have been ignoring the interaction of variables with each other. Now, we can build a model using all variables."
   ]
  },
  {
   "cell_type": "code",
   "execution_count": 32,
   "metadata": {},
   "outputs": [
    {
     "data": {
      "text/html": [
       "<div>\n",
       "<style scoped>\n",
       "    .dataframe tbody tr th:only-of-type {\n",
       "        vertical-align: middle;\n",
       "    }\n",
       "\n",
       "    .dataframe tbody tr th {\n",
       "        vertical-align: top;\n",
       "    }\n",
       "\n",
       "    .dataframe thead th {\n",
       "        text-align: right;\n",
       "    }\n",
       "</style>\n",
       "<table border=\"1\" class=\"dataframe\">\n",
       "  <tbody>\n",
       "    <tr>\n",
       "      <th>model</th>\n",
       "      <td>lifelines.CoxPHFitter</td>\n",
       "    </tr>\n",
       "    <tr>\n",
       "      <th>duration col</th>\n",
       "      <td>'OS.time'</td>\n",
       "    </tr>\n",
       "    <tr>\n",
       "      <th>event col</th>\n",
       "      <td>'OS'</td>\n",
       "    </tr>\n",
       "    <tr>\n",
       "      <th>baseline estimation</th>\n",
       "      <td>breslow</td>\n",
       "    </tr>\n",
       "    <tr>\n",
       "      <th>number of observations</th>\n",
       "      <td>88</td>\n",
       "    </tr>\n",
       "    <tr>\n",
       "      <th>number of events observed</th>\n",
       "      <td>30</td>\n",
       "    </tr>\n",
       "    <tr>\n",
       "      <th>partial log-likelihood</th>\n",
       "      <td>-112.28</td>\n",
       "    </tr>\n",
       "    <tr>\n",
       "      <th>time fit was run</th>\n",
       "      <td>2024-02-14 15:57:43 UTC</td>\n",
       "    </tr>\n",
       "  </tbody>\n",
       "</table>\n",
       "</div><table border=\"1\" class=\"dataframe\">\n",
       "  <thead>\n",
       "    <tr style=\"text-align: right;\">\n",
       "      <th style=\"min-width: 12px;\"></th>\n",
       "      <th style=\"min-width: 12px;\">coef</th>\n",
       "      <th style=\"min-width: 12px;\">exp(coef)</th>\n",
       "      <th style=\"min-width: 12px;\">se(coef)</th>\n",
       "      <th style=\"min-width: 12px;\">coef lower 95%</th>\n",
       "      <th style=\"min-width: 12px;\">coef upper 95%</th>\n",
       "      <th style=\"min-width: 12px;\">exp(coef) lower 95%</th>\n",
       "      <th style=\"min-width: 12px;\">exp(coef) upper 95%</th>\n",
       "      <th style=\"min-width: 12px;\">z</th>\n",
       "      <th style=\"min-width: 12px;\">p</th>\n",
       "      <th style=\"min-width: 12px;\">-log2(p)</th>\n",
       "    </tr>\n",
       "  </thead>\n",
       "  <tbody>\n",
       "    <tr>\n",
       "      <th>C(gender)[T.MALE]</th>\n",
       "      <td>-0.15</td>\n",
       "      <td>0.86</td>\n",
       "      <td>0.42</td>\n",
       "      <td>-0.97</td>\n",
       "      <td>0.67</td>\n",
       "      <td>0.38</td>\n",
       "      <td>1.95</td>\n",
       "      <td>-0.36</td>\n",
       "      <td>0.72</td>\n",
       "      <td>0.48</td>\n",
       "    </tr>\n",
       "    <tr>\n",
       "      <th>Log10_total_sick_cells</th>\n",
       "      <td>0.89</td>\n",
       "      <td>2.44</td>\n",
       "      <td>0.37</td>\n",
       "      <td>0.17</td>\n",
       "      <td>1.62</td>\n",
       "      <td>1.18</td>\n",
       "      <td>5.04</td>\n",
       "      <td>2.41</td>\n",
       "      <td>0.02</td>\n",
       "      <td>5.97</td>\n",
       "    </tr>\n",
       "    <tr>\n",
       "      <th>age</th>\n",
       "      <td>-0.01</td>\n",
       "      <td>0.99</td>\n",
       "      <td>0.01</td>\n",
       "      <td>-0.03</td>\n",
       "      <td>0.02</td>\n",
       "      <td>0.97</td>\n",
       "      <td>1.02</td>\n",
       "      <td>-0.47</td>\n",
       "      <td>0.64</td>\n",
       "      <td>0.64</td>\n",
       "    </tr>\n",
       "    <tr>\n",
       "      <th>has_immunity_sick_cells[T.YES]</th>\n",
       "      <td>0.82</td>\n",
       "      <td>2.27</td>\n",
       "      <td>0.45</td>\n",
       "      <td>-0.06</td>\n",
       "      <td>1.70</td>\n",
       "      <td>0.94</td>\n",
       "      <td>5.48</td>\n",
       "      <td>1.82</td>\n",
       "      <td>0.07</td>\n",
       "      <td>3.88</td>\n",
       "    </tr>\n",
       "  </tbody>\n",
       "</table><br><div>\n",
       "<style scoped>\n",
       "    .dataframe tbody tr th:only-of-type {\n",
       "        vertical-align: middle;\n",
       "    }\n",
       "\n",
       "    .dataframe tbody tr th {\n",
       "        vertical-align: top;\n",
       "    }\n",
       "\n",
       "    .dataframe thead th {\n",
       "        text-align: right;\n",
       "    }\n",
       "</style>\n",
       "<table border=\"1\" class=\"dataframe\">\n",
       "  <tbody>\n",
       "    <tr>\n",
       "      <th>Concordance</th>\n",
       "      <td>0.74</td>\n",
       "    </tr>\n",
       "    <tr>\n",
       "      <th>Partial AIC</th>\n",
       "      <td>232.56</td>\n",
       "    </tr>\n",
       "    <tr>\n",
       "      <th>log-likelihood ratio test</th>\n",
       "      <td>17.53 on 4 df</td>\n",
       "    </tr>\n",
       "    <tr>\n",
       "      <th>-log2(p) of ll-ratio test</th>\n",
       "      <td>9.36</td>\n",
       "    </tr>\n",
       "  </tbody>\n",
       "</table>\n",
       "</div>"
      ],
      "text/latex": [
       "\\begin{tabular}{lrrrrrrrrrr}\n",
       "\\toprule\n",
       "{} &  coef &  exp(coef) &  se(coef) &  coef lower 95\\% &  coef upper 95\\% &  exp(coef) lower 95\\% &  exp(coef) upper 95\\% &     z &    p &  -log2(p) \\\\\n",
       "covariate                      &       &            &           &                 &                 &                      &                      &       &      &           \\\\\n",
       "\\midrule\n",
       "C(gender)[T.MALE]              & -0.15 &       0.86 &      0.42 &           -0.97 &            0.67 &                 0.38 &                 1.95 & -0.36 & 0.72 &      0.48 \\\\\n",
       "Log10\\_total\\_sick\\_cells         &  0.89 &       2.44 &      0.37 &            0.17 &            1.62 &                 1.18 &                 5.04 &  2.41 & 0.02 &      5.97 \\\\\n",
       "age                            & -0.01 &       0.99 &      0.01 &           -0.03 &            0.02 &                 0.97 &                 1.02 & -0.47 & 0.64 &      0.64 \\\\\n",
       "has\\_immunity\\_sick\\_cells[T.YES] &  0.82 &       2.27 &      0.45 &           -0.06 &            1.70 &                 0.94 &                 5.48 &  1.82 & 0.07 &      3.88 \\\\\n",
       "\\bottomrule\n",
       "\\end{tabular}\n"
      ],
      "text/plain": [
       "<lifelines.CoxPHFitter: fitted with 88 total observations, 58 right-censored observations>\n",
       "             duration col = 'OS.time'\n",
       "                event col = 'OS'\n",
       "      baseline estimation = breslow\n",
       "   number of observations = 88\n",
       "number of events observed = 30\n",
       "   partial log-likelihood = -112.28\n",
       "         time fit was run = 2024-02-14 15:57:43 UTC\n",
       "\n",
       "---\n",
       "                                 coef  exp(coef)   se(coef)   coef lower 95%   coef upper 95%  exp(coef) lower 95%  exp(coef) upper 95%\n",
       "covariate                                                                                                                              \n",
       "C(gender)[T.MALE]               -0.15       0.86       0.42            -0.97             0.67                 0.38                 1.95\n",
       "Log10_total_sick_cells           0.89       2.44       0.37             0.17             1.62                 1.18                 5.04\n",
       "age                             -0.01       0.99       0.01            -0.03             0.02                 0.97                 1.02\n",
       "has_immunity_sick_cells[T.YES]   0.82       2.27       0.45            -0.06             1.70                 0.94                 5.48\n",
       "\n",
       "                                   z    p   -log2(p)\n",
       "covariate                                           \n",
       "C(gender)[T.MALE]              -0.36 0.72       0.48\n",
       "Log10_total_sick_cells          2.41 0.02       5.97\n",
       "age                            -0.47 0.64       0.64\n",
       "has_immunity_sick_cells[T.YES]  1.82 0.07       3.88\n",
       "---\n",
       "Concordance = 0.74\n",
       "Partial AIC = 232.56\n",
       "log-likelihood ratio test = 17.53 on 4 df\n",
       "-log2(p) of ll-ratio test = 9.36"
      ]
     },
     "metadata": {},
     "output_type": "display_data"
    },
    {
     "name": "stdout",
     "output_type": "stream",
     "text": [
      "Proportional hazard assumption looks okay.\n"
     ]
    },
    {
     "data": {
      "text/plain": [
       "[]"
      ]
     },
     "execution_count": 32,
     "metadata": {},
     "output_type": "execute_result"
    }
   ],
   "source": [
    "summ = None\n",
    "cox = lifelines.CoxPHFitter()\n",
    "cox.fit(df[[\"Log10_total_sick_cells\",\"gender\",\"age\",\"has_immunity_sick_cells\",\"OS\",\"OS.time\"]],event_col= \"OS\", duration_col=\"OS.time\",formula=\"Log10_total_sick_cells+age+has_immunity_sick_cells+C(gender)\")\n",
    "cox.print_summary()\n",
    "cox.check_assumptions(df[[\"Log10_total_sick_cells\",\"gender\",\"age\",\"has_immunity_sick_cells\",\"OS\",\"OS.time\"]],False)"
   ]
  },
  {
   "cell_type": "markdown",
   "metadata": {},
   "source": [
    "As we can see, the two dominating variables are the number of sick cells and the presence of immunity sick cells. It looks like that those two variables are more important for determining the outcome more than gender and age. The concordance and the log likelihood are relatively high and the p-values are small which means we are on the safe side. \n",
    "\n",
    "Throughout the notebook, the proportional hazard assumption test succeeded. However, this is not always the case when we have lots of variables. Some researchers even argue that the proportional hazard assumption is unnecessary when our purpose is prediction."
   ]
  },
  {
   "cell_type": "markdown",
   "metadata": {},
   "source": [
    "## Conclusion"
   ]
  },
  {
   "cell_type": "markdown",
   "metadata": {},
   "source": [
    "Survival analysis is a good tool for quantifying the effects of variables on a particular event. This event can be death, machine malfunction, or customer delinquency. Although the model is relatively simple, it is customizable and can be easily extended. We can:\n",
    "\n",
    "1. add $l_1$ and $l_2$ regularization\n",
    "2. add additional terms i.e. $x_1 + x_1^2 + x_1^3$\n",
    "3. set the baseline hazard, $h_o(t)$, to have a certain parametric form like in the case of ***Weibull Accelerated Failure Time*** model"
   ]
  },
  {
   "cell_type": "markdown",
   "metadata": {},
   "source": [
    "## References"
   ]
  },
  {
   "cell_type": "markdown",
   "metadata": {},
   "source": [
    "1. Survival Data Analysis (BIOS:7210), University of Iowa.\n",
    "2. The Robust Inference for the Cox Proportional Hazards Model.\n",
    "3. Hazard Ratio in Clinical Trials.\n",
    "4. Survival analysis: Part I — analysis of time-to-event.\n",
    "5. Lifelines Survival Analysis.\n",
    "6. Criticality of Tumor Evolution and Clinical Outcome."
   ]
  }
 ],
 "metadata": {
  "celltoolbar": "Tags",
  "interpreter": {
   "hash": "2aa9dc7bcd8734605e1956c2d966f9a86f4cf938ab325415c6e310dc2e3a7530"
  },
  "kernelspec": {
   "display_name": "Python 3 (ipykernel)",
   "language": "python",
   "name": "python3"
  },
  "language_info": {
   "codemirror_mode": {
    "name": "ipython",
    "version": 3
   },
   "file_extension": ".py",
   "mimetype": "text/x-python",
   "name": "python",
   "nbconvert_exporter": "python",
   "pygments_lexer": "ipython3",
   "version": "3.8.10"
  }
 },
 "nbformat": 4,
 "nbformat_minor": 2
}
